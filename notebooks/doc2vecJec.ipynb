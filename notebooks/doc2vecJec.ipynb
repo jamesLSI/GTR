{
 "cells": [
  {
   "cell_type": "code",
   "execution_count": 3,
   "metadata": {},
   "outputs": [],
   "source": [
    "import numpy as np\n",
    "import pandas as pd\n",
    "import tqdm\n",
    "\n",
    "from gensim.test.utils import common_texts\n",
    "from gensim.models.doc2vec import Doc2Vec, TaggedDocument"
   ]
  },
  {
   "cell_type": "code",
   "execution_count": 2,
   "metadata": {},
   "outputs": [],
   "source": [
    "gtr_projects_df = pd.read_json('../data/processed/clean_data.json.xz')"
   ]
  },
  {
   "cell_type": "code",
   "execution_count": 5,
   "metadata": {},
   "outputs": [],
   "source": [
    "documents = [TaggedDocument(doc, [i]) for i, doc in enumerate(gtr_projects_df.tokenized_abstract)] # make taggeddoc object"
   ]
  },
  {
   "cell_type": "code",
   "execution_count": 6,
   "metadata": {},
   "outputs": [],
   "source": [
    "model = Doc2Vec(documents, vector_size=200, window=4, min_count=1, workers=4) # generate doc2vec model"
   ]
  },
  {
   "cell_type": "code",
   "execution_count": 7,
   "metadata": {},
   "outputs": [
    {
     "data": {
      "text/plain": [
       "[('genes', 0.8197543621063232),\n",
       " ('mutations', 0.6639033555984497),\n",
       " ('mutation', 0.6442316770553589),\n",
       " ('microrna', 0.6149923801422119),\n",
       " ('mirna', 0.6138944625854492),\n",
       " ('genetic', 0.6074802279472351),\n",
       " ('genome', 0.6010457873344421),\n",
       " ('rna', 0.5873258709907532),\n",
       " ('enzyme', 0.5822595357894897),\n",
       " ('transgene', 0.5788264274597168)]"
      ]
     },
     "execution_count": 7,
     "metadata": {},
     "output_type": "execute_result"
    }
   ],
   "source": [
    "model.wv.similar_by_word(\"gene\") # find similar words (doesn't seem to work very well)"
   ]
  },
  {
   "cell_type": "code",
   "execution_count": null,
   "metadata": {},
   "outputs": [],
   "source": []
  },
  {
   "cell_type": "code",
   "execution_count": 55,
   "metadata": {},
   "outputs": [
    {
     "name": "stdout",
     "output_type": "stream",
     "text": [
      "Object `wv.similar_by_word` not found.\n"
     ]
    }
   ],
   "source": [
    "## this is not code!!!!\n",
    "totalVocab = tup[]\n",
    "\n",
    "for i in i:len(wordList) \n",
    "    newWord = model.wv.similar_by_word(wordlist[i])\n",
    "    totalVocab.append(newWords)"
   ]
  },
  {
   "cell_type": "code",
   "execution_count": null,
   "metadata": {},
   "outputs": [],
   "source": [
    "## this is not code!!!!\n",
    "\n",
    "for word in clean_abstracts.tok_abstrcts if in totalVocab"
   ]
  }
 ],
 "metadata": {
  "kernelspec": {
   "display_name": "Python 3",
   "language": "python",
   "name": "python3"
  },
  "language_info": {
   "codemirror_mode": {
    "name": "ipython",
    "version": 3
   },
   "file_extension": ".py",
   "mimetype": "text/x-python",
   "name": "python",
   "nbconvert_exporter": "python",
   "pygments_lexer": "ipython3",
   "version": "3.7.4"
  }
 },
 "nbformat": 4,
 "nbformat_minor": 4
}
