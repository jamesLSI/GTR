{
 "cells": [
  {
   "cell_type": "code",
   "execution_count": 16,
   "metadata": {},
   "outputs": [],
   "source": [
    "from gensim.test.utils import common_texts\n",
    "from gensim.models.doc2vec import Doc2Vec, TaggedDocument\n",
    "import pandas as pd\n"
   ]
  },
  {
   "cell_type": "code",
   "execution_count": 19,
   "metadata": {},
   "outputs": [],
   "source": [
    "clean_abstracts = pd.read_csv('stemmedAbstracts.csv') # read in stemmed abstracts"
   ]
  },
  {
   "cell_type": "code",
   "execution_count": 20,
   "metadata": {},
   "outputs": [
    {
     "name": "stderr",
     "output_type": "stream",
     "text": [
      "100%|███████████████████████████████████████████████████████████████████████████| 62296/62296 [04:16<00:00, 242.62it/s]\n"
     ]
    },
    {
     "name": "stdout",
     "output_type": "stream",
     "text": [
      "Wall time: 4min 17s\n"
     ]
    }
   ],
   "source": [
    "from nltk.tokenize import word_tokenize # re tokenise\n",
    "\n",
    "import tqdm\n",
    "\n",
    "%time clean_abstracts.tok_abstracts = [word_tokenize(i) for i in tqdm.tqdm(clean_abstracts.tok_abstracts)]"
   ]
  },
  {
   "cell_type": "code",
   "execution_count": 22,
   "metadata": {},
   "outputs": [],
   "source": [
    "documents = [TaggedDocument(doc, [i]) for i, doc in enumerate(clean_abstracts.tok_abstracts)] # make taggeddoc object"
   ]
  },
  {
   "cell_type": "code",
   "execution_count": 56,
   "metadata": {},
   "outputs": [],
   "source": [
    "model = Doc2Vec(documents, vector_size=200, window=4, min_count=1, workers=4) # generate doc2vec model"
   ]
  },
  {
   "cell_type": "code",
   "execution_count": 57,
   "metadata": {},
   "outputs": [
    {
     "data": {
      "text/plain": [
       "[('mutat', 0.6406214237213135),\n",
       " ('microrna', 0.6363167762756348),\n",
       " ('genet', 0.6306232213973999),\n",
       " ('mutant', 0.6089534163475037),\n",
       " ('genom', 0.6073076725006104),\n",
       " ('rna', 0.60163813829422),\n",
       " ('mirna', 0.5886248350143433),\n",
       " ('loci', 0.5875608921051025),\n",
       " ('protein', 0.5831072330474854),\n",
       " ('dna', 0.575054943561554)]"
      ]
     },
     "execution_count": 57,
     "metadata": {},
     "output_type": "execute_result"
    }
   ],
   "source": [
    "model.wv.similar_by_word(\"gene\") # find similar words (doesn't seem to work very well)"
   ]
  },
  {
   "cell_type": "code",
   "execution_count": 55,
   "metadata": {},
   "outputs": [
    {
     "name": "stdout",
     "output_type": "stream",
     "text": [
      "Object `wv.similar_by_word` not found.\n"
     ]
    }
   ],
   "source": [
    "## this is not code!!!!\n",
    "totalVocab = tup[]\n",
    "\n",
    "for i in i:len(wordList) \n",
    "    newWord = model.wv.similar_by_word(wordlist[i])\n",
    "    totalVocab.append(newWords)"
   ]
  },
  {
   "cell_type": "code",
   "execution_count": null,
   "metadata": {},
   "outputs": [],
   "source": [
    "## this is not code!!!!\n",
    "\n",
    "for word in clean_abstracts.tok_abstrcts if in totalVocab"
   ]
  }
 ],
 "metadata": {
  "kernelspec": {
   "display_name": "Python 3",
   "language": "python",
   "name": "python3"
  },
  "language_info": {
   "codemirror_mode": {
    "name": "ipython",
    "version": 3
   },
   "file_extension": ".py",
   "mimetype": "text/x-python",
   "name": "python",
   "nbconvert_exporter": "python",
   "pygments_lexer": "ipython3",
   "version": "3.6.0"
  }
 },
 "nbformat": 4,
 "nbformat_minor": 2
}
