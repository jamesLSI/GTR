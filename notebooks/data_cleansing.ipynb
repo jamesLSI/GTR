{
 "cells": [
  {
   "cell_type": "markdown",
   "metadata": {},
   "source": [
    "## GTR Project"
   ]
  },
  {
   "cell_type": "markdown",
   "metadata": {},
   "source": [
    "#### Import the needed libraries"
   ]
  },
  {
   "cell_type": "code",
   "execution_count": 1,
   "metadata": {},
   "outputs": [],
   "source": [
    "import numpy as np\n",
    "import pandas as pd\n",
    "from im_tutorials.data.gtr import gtr_table\n",
    "import tqdm\n",
    "import re\n",
    "from nltk.tokenize import word_tokenize\n",
    "from nltk.corpus import stopwords"
   ]
  },
  {
   "cell_type": "markdown",
   "metadata": {},
   "source": [
    "#### Import the dataset"
   ]
  },
  {
   "cell_type": "code",
   "execution_count": 2,
   "metadata": {},
   "outputs": [],
   "source": [
    "gtr_projects_df = gtr_table('projects')"
   ]
  },
  {
   "cell_type": "markdown",
   "metadata": {},
   "source": [
    "#### Preserve only the useful columns and remove the duplicates"
   ]
  },
  {
   "cell_type": "code",
   "execution_count": 3,
   "metadata": {},
   "outputs": [],
   "source": [
    "gtr_projects_df = gtr_projects_df[['id','abstractText']]\n",
    "# gtr_projects_df = gtr_projects_df[gtr_projects_df['abstractText'].duplicated() == False]\n",
    "gtr_projects_df = gtr_projects_df[gtr_projects_df['abstractText'].duplicated(False) == False]"
   ]
  },
  {
   "cell_type": "markdown",
   "metadata": {},
   "source": [
    "#### Strings cleansing and tokenisation"
   ]
  },
  {
   "cell_type": "code",
   "execution_count": 4,
   "metadata": {},
   "outputs": [
    {
     "name": "stderr",
     "output_type": "stream",
     "text": [
      "100%|██████████| 64191/64191 [01:38<00:00, 651.01it/s]\n"
     ]
    },
    {
     "data": {
      "text/plain": [
       "(62060, 3)"
      ]
     },
     "execution_count": 4,
     "metadata": {},
     "output_type": "execute_result"
    }
   ],
   "source": [
    "gtr_projects_df.loc[:,'abstractText'] = gtr_projects_df.abstractText.str.replace('[^\\w\\s]','')\n",
    "gtr_projects_df.loc[:,'abstractText'] = gtr_projects_df.abstractText.str.lower()\n",
    "gtr_projects_df.loc[:,'tokenized_abstract'] = [word_tokenize(i) for i in tqdm.tqdm(gtr_projects_df.abstractText)]\n",
    "\n",
    "gtr_projects_df = gtr_projects_df[gtr_projects_df.tokenized_abstract.apply(len) >= 20]\n",
    "# Maybe it is not anymore the right cut since there are not anymore dots and other things like this in the strings\n",
    "\n",
    "english_stopwords = set(stopwords.words('english'))\n",
    "gtr_projects_df.loc[:,'tokenized_abstract'] = gtr_projects_df.tokenized_abstract.apply(lambda row: [foo for foo in row if foo not in english_stopwords])\n",
    "\n",
    "gtr_projects_df.shape"
   ]
  },
  {
   "cell_type": "markdown",
   "metadata": {},
   "source": [
    "#### Save file"
   ]
  },
  {
   "cell_type": "code",
   "execution_count": 8,
   "metadata": {},
   "outputs": [],
   "source": [
    "gtr_projects_df[['id','tokenized_abstract']].to_json('../data/processed/foo.json.xz', compression='xz')#, index=False)"
   ]
  },
  {
   "cell_type": "code",
   "execution_count": 9,
   "metadata": {},
   "outputs": [],
   "source": [
    "# gtr_projects_df = pd.read_json('../data/processed/foo.json.xz')"
   ]
  },
  {
   "cell_type": "code",
   "execution_count": null,
   "metadata": {},
   "outputs": [],
   "source": []
  }
 ],
 "metadata": {
  "kernelspec": {
   "display_name": "Python 3",
   "language": "python",
   "name": "python3"
  },
  "language_info": {
   "codemirror_mode": {
    "name": "ipython",
    "version": 3
   },
   "file_extension": ".py",
   "mimetype": "text/x-python",
   "name": "python",
   "nbconvert_exporter": "python",
   "pygments_lexer": "ipython3",
   "version": "3.7.4"
  }
 },
 "nbformat": 4,
 "nbformat_minor": 4
}
